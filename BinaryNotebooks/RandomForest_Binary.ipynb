{
 "cells": [
  {
   "cell_type": "markdown",
   "metadata": {},
   "source": [
    "## Reading in packages, loading in data"
   ]
  },
  {
   "cell_type": "code",
   "execution_count": 3,
   "metadata": {},
   "outputs": [],
   "source": [
    "import pandas as pd\n",
    "import numpy as np\n",
    "\n",
    "import seaborn as sns\n",
    "import matplotlib.pyplot as plt\n",
    "%matplotlib inline\n",
    "\n",
    "from sklearn.ensemble import RandomForestClassifier\n",
    "from sklearn.model_selection import train_test_split\n",
    "from sklearn.preprocessing import StandardScaler, PolynomialFeatures\n",
    "from sklearn.metrics import confusion_matrix, roc_auc_score, roc_curve, \\\n",
    "                            classification_report, precision_recall_curve, log_loss\n",
    "from sklearn import metrics"
   ]
  },
  {
   "cell_type": "code",
   "execution_count": 4,
   "metadata": {},
   "outputs": [],
   "source": [
    "spotify_df = pd.read_csv('spotifytracks.csv')"
   ]
  },
  {
   "cell_type": "code",
   "execution_count": 5,
   "metadata": {},
   "outputs": [],
   "source": [
    "spotify_df.drop(['genre', 'Unnamed: 0'], axis=1, inplace=True)"
   ]
  },
  {
   "cell_type": "code",
   "execution_count": 6,
   "metadata": {},
   "outputs": [
    {
     "data": {
      "text/html": [
       "<div>\n",
       "<style scoped>\n",
       "    .dataframe tbody tr th:only-of-type {\n",
       "        vertical-align: middle;\n",
       "    }\n",
       "\n",
       "    .dataframe tbody tr th {\n",
       "        vertical-align: top;\n",
       "    }\n",
       "\n",
       "    .dataframe thead th {\n",
       "        text-align: right;\n",
       "    }\n",
       "</style>\n",
       "<table border=\"1\" class=\"dataframe\">\n",
       "  <thead>\n",
       "    <tr style=\"text-align: right;\">\n",
       "      <th></th>\n",
       "      <th>track_name</th>\n",
       "      <th>album</th>\n",
       "      <th>artist</th>\n",
       "      <th>release_date</th>\n",
       "      <th>length</th>\n",
       "      <th>popularity</th>\n",
       "      <th>danceability</th>\n",
       "      <th>energy</th>\n",
       "      <th>key</th>\n",
       "      <th>loudness</th>\n",
       "      <th>mode</th>\n",
       "      <th>speechiness</th>\n",
       "      <th>acousticness</th>\n",
       "      <th>instrumentalness</th>\n",
       "      <th>liveness</th>\n",
       "      <th>valence</th>\n",
       "      <th>tempo</th>\n",
       "      <th>time_signature</th>\n",
       "      <th>target</th>\n",
       "    </tr>\n",
       "  </thead>\n",
       "  <tbody>\n",
       "    <tr>\n",
       "      <th>0</th>\n",
       "      <td>One More Year</td>\n",
       "      <td>The Slow Rush</td>\n",
       "      <td>Tame Impala</td>\n",
       "      <td>2020-02-14</td>\n",
       "      <td>324013</td>\n",
       "      <td>59</td>\n",
       "      <td>0.602</td>\n",
       "      <td>0.880</td>\n",
       "      <td>1</td>\n",
       "      <td>-5.414</td>\n",
       "      <td>1</td>\n",
       "      <td>0.0354</td>\n",
       "      <td>0.0570</td>\n",
       "      <td>0.460000</td>\n",
       "      <td>0.2840</td>\n",
       "      <td>0.493</td>\n",
       "      <td>114.009</td>\n",
       "      <td>4</td>\n",
       "      <td>1</td>\n",
       "    </tr>\n",
       "    <tr>\n",
       "      <th>1</th>\n",
       "      <td>Vámonos de Viaje</td>\n",
       "      <td>BACH</td>\n",
       "      <td>Bandalos Chinos</td>\n",
       "      <td>2018-08-03</td>\n",
       "      <td>235866</td>\n",
       "      <td>2</td>\n",
       "      <td>0.766</td>\n",
       "      <td>0.749</td>\n",
       "      <td>5</td>\n",
       "      <td>-6.147</td>\n",
       "      <td>1</td>\n",
       "      <td>0.0303</td>\n",
       "      <td>0.0249</td>\n",
       "      <td>0.002150</td>\n",
       "      <td>0.3550</td>\n",
       "      <td>0.889</td>\n",
       "      <td>129.010</td>\n",
       "      <td>4</td>\n",
       "      <td>1</td>\n",
       "    </tr>\n",
       "    <tr>\n",
       "      <th>2</th>\n",
       "      <td>Sofia</td>\n",
       "      <td>Immunity</td>\n",
       "      <td>Clairo</td>\n",
       "      <td>2019-08-02</td>\n",
       "      <td>188386</td>\n",
       "      <td>83</td>\n",
       "      <td>0.744</td>\n",
       "      <td>0.619</td>\n",
       "      <td>0</td>\n",
       "      <td>-9.805</td>\n",
       "      <td>1</td>\n",
       "      <td>0.0390</td>\n",
       "      <td>0.5980</td>\n",
       "      <td>0.003720</td>\n",
       "      <td>0.2310</td>\n",
       "      <td>0.641</td>\n",
       "      <td>112.997</td>\n",
       "      <td>4</td>\n",
       "      <td>1</td>\n",
       "    </tr>\n",
       "    <tr>\n",
       "      <th>3</th>\n",
       "      <td>Sadnecessary</td>\n",
       "      <td>Sadnecessary</td>\n",
       "      <td>Milky Chance</td>\n",
       "      <td>2013-05-31</td>\n",
       "      <td>298000</td>\n",
       "      <td>51</td>\n",
       "      <td>0.757</td>\n",
       "      <td>0.542</td>\n",
       "      <td>9</td>\n",
       "      <td>-10.674</td>\n",
       "      <td>1</td>\n",
       "      <td>0.0775</td>\n",
       "      <td>0.7960</td>\n",
       "      <td>0.019600</td>\n",
       "      <td>0.2650</td>\n",
       "      <td>0.466</td>\n",
       "      <td>107.988</td>\n",
       "      <td>4</td>\n",
       "      <td>1</td>\n",
       "    </tr>\n",
       "    <tr>\n",
       "      <th>4</th>\n",
       "      <td>Closedloop</td>\n",
       "      <td>Boomerang EP</td>\n",
       "      <td>Elliot Moss</td>\n",
       "      <td>2017-04-28</td>\n",
       "      <td>280689</td>\n",
       "      <td>37</td>\n",
       "      <td>0.803</td>\n",
       "      <td>0.420</td>\n",
       "      <td>7</td>\n",
       "      <td>-10.220</td>\n",
       "      <td>0</td>\n",
       "      <td>0.0432</td>\n",
       "      <td>0.2560</td>\n",
       "      <td>0.112000</td>\n",
       "      <td>0.0703</td>\n",
       "      <td>0.493</td>\n",
       "      <td>130.031</td>\n",
       "      <td>4</td>\n",
       "      <td>1</td>\n",
       "    </tr>\n",
       "    <tr>\n",
       "      <th>...</th>\n",
       "      <td>...</td>\n",
       "      <td>...</td>\n",
       "      <td>...</td>\n",
       "      <td>...</td>\n",
       "      <td>...</td>\n",
       "      <td>...</td>\n",
       "      <td>...</td>\n",
       "      <td>...</td>\n",
       "      <td>...</td>\n",
       "      <td>...</td>\n",
       "      <td>...</td>\n",
       "      <td>...</td>\n",
       "      <td>...</td>\n",
       "      <td>...</td>\n",
       "      <td>...</td>\n",
       "      <td>...</td>\n",
       "      <td>...</td>\n",
       "      <td>...</td>\n",
       "      <td>...</td>\n",
       "    </tr>\n",
       "    <tr>\n",
       "      <th>10135</th>\n",
       "      <td>The Theme - Take 1</td>\n",
       "      <td>Workin'</td>\n",
       "      <td>Miles Davis Quintet</td>\n",
       "      <td>1959</td>\n",
       "      <td>118146</td>\n",
       "      <td>33</td>\n",
       "      <td>0.473</td>\n",
       "      <td>0.427</td>\n",
       "      <td>10</td>\n",
       "      <td>-10.742</td>\n",
       "      <td>0</td>\n",
       "      <td>0.0406</td>\n",
       "      <td>0.5210</td>\n",
       "      <td>0.001340</td>\n",
       "      <td>0.5530</td>\n",
       "      <td>0.444</td>\n",
       "      <td>137.139</td>\n",
       "      <td>4</td>\n",
       "      <td>0</td>\n",
       "    </tr>\n",
       "    <tr>\n",
       "      <th>10136</th>\n",
       "      <td>Trane's Blues</td>\n",
       "      <td>Workin'</td>\n",
       "      <td>Miles Davis Quintet</td>\n",
       "      <td>1959</td>\n",
       "      <td>512146</td>\n",
       "      <td>37</td>\n",
       "      <td>0.554</td>\n",
       "      <td>0.445</td>\n",
       "      <td>0</td>\n",
       "      <td>-10.211</td>\n",
       "      <td>0</td>\n",
       "      <td>0.0385</td>\n",
       "      <td>0.6740</td>\n",
       "      <td>0.000011</td>\n",
       "      <td>0.0926</td>\n",
       "      <td>0.498</td>\n",
       "      <td>80.505</td>\n",
       "      <td>4</td>\n",
       "      <td>0</td>\n",
       "    </tr>\n",
       "    <tr>\n",
       "      <th>10137</th>\n",
       "      <td>Ahmad's Blues</td>\n",
       "      <td>Workin'</td>\n",
       "      <td>Miles Davis Quintet</td>\n",
       "      <td>1959</td>\n",
       "      <td>444226</td>\n",
       "      <td>34</td>\n",
       "      <td>0.554</td>\n",
       "      <td>0.412</td>\n",
       "      <td>6</td>\n",
       "      <td>-14.048</td>\n",
       "      <td>1</td>\n",
       "      <td>0.0495</td>\n",
       "      <td>0.5040</td>\n",
       "      <td>0.534000</td>\n",
       "      <td>0.1660</td>\n",
       "      <td>0.457</td>\n",
       "      <td>116.631</td>\n",
       "      <td>4</td>\n",
       "      <td>0</td>\n",
       "    </tr>\n",
       "    <tr>\n",
       "      <th>10138</th>\n",
       "      <td>Half Nelson</td>\n",
       "      <td>Workin'</td>\n",
       "      <td>Miles Davis Quintet</td>\n",
       "      <td>1959</td>\n",
       "      <td>285040</td>\n",
       "      <td>29</td>\n",
       "      <td>0.521</td>\n",
       "      <td>0.726</td>\n",
       "      <td>0</td>\n",
       "      <td>-7.266</td>\n",
       "      <td>1</td>\n",
       "      <td>0.1210</td>\n",
       "      <td>0.7390</td>\n",
       "      <td>0.000877</td>\n",
       "      <td>0.1460</td>\n",
       "      <td>0.712</td>\n",
       "      <td>128.432</td>\n",
       "      <td>4</td>\n",
       "      <td>0</td>\n",
       "    </tr>\n",
       "    <tr>\n",
       "      <th>10139</th>\n",
       "      <td>The Theme - Take 2</td>\n",
       "      <td>Workin'</td>\n",
       "      <td>Miles Davis Quintet</td>\n",
       "      <td>1959</td>\n",
       "      <td>64280</td>\n",
       "      <td>27</td>\n",
       "      <td>0.482</td>\n",
       "      <td>0.806</td>\n",
       "      <td>11</td>\n",
       "      <td>-8.566</td>\n",
       "      <td>1</td>\n",
       "      <td>0.0414</td>\n",
       "      <td>0.8050</td>\n",
       "      <td>0.011900</td>\n",
       "      <td>0.1280</td>\n",
       "      <td>0.361</td>\n",
       "      <td>104.978</td>\n",
       "      <td>4</td>\n",
       "      <td>0</td>\n",
       "    </tr>\n",
       "  </tbody>\n",
       "</table>\n",
       "<p>10140 rows × 19 columns</p>\n",
       "</div>"
      ],
      "text/plain": [
       "               track_name          album               artist release_date  \\\n",
       "0           One More Year  The Slow Rush          Tame Impala   2020-02-14   \n",
       "1        Vámonos de Viaje           BACH      Bandalos Chinos   2018-08-03   \n",
       "2                   Sofia       Immunity               Clairo   2019-08-02   \n",
       "3            Sadnecessary   Sadnecessary         Milky Chance   2013-05-31   \n",
       "4              Closedloop   Boomerang EP          Elliot Moss   2017-04-28   \n",
       "...                   ...            ...                  ...          ...   \n",
       "10135  The Theme - Take 1        Workin'  Miles Davis Quintet         1959   \n",
       "10136       Trane's Blues        Workin'  Miles Davis Quintet         1959   \n",
       "10137       Ahmad's Blues        Workin'  Miles Davis Quintet         1959   \n",
       "10138         Half Nelson        Workin'  Miles Davis Quintet         1959   \n",
       "10139  The Theme - Take 2        Workin'  Miles Davis Quintet         1959   \n",
       "\n",
       "       length  popularity  danceability  energy  key  loudness  mode  \\\n",
       "0      324013          59         0.602   0.880    1    -5.414     1   \n",
       "1      235866           2         0.766   0.749    5    -6.147     1   \n",
       "2      188386          83         0.744   0.619    0    -9.805     1   \n",
       "3      298000          51         0.757   0.542    9   -10.674     1   \n",
       "4      280689          37         0.803   0.420    7   -10.220     0   \n",
       "...       ...         ...           ...     ...  ...       ...   ...   \n",
       "10135  118146          33         0.473   0.427   10   -10.742     0   \n",
       "10136  512146          37         0.554   0.445    0   -10.211     0   \n",
       "10137  444226          34         0.554   0.412    6   -14.048     1   \n",
       "10138  285040          29         0.521   0.726    0    -7.266     1   \n",
       "10139   64280          27         0.482   0.806   11    -8.566     1   \n",
       "\n",
       "       speechiness  acousticness  instrumentalness  liveness  valence  \\\n",
       "0           0.0354        0.0570          0.460000    0.2840    0.493   \n",
       "1           0.0303        0.0249          0.002150    0.3550    0.889   \n",
       "2           0.0390        0.5980          0.003720    0.2310    0.641   \n",
       "3           0.0775        0.7960          0.019600    0.2650    0.466   \n",
       "4           0.0432        0.2560          0.112000    0.0703    0.493   \n",
       "...            ...           ...               ...       ...      ...   \n",
       "10135       0.0406        0.5210          0.001340    0.5530    0.444   \n",
       "10136       0.0385        0.6740          0.000011    0.0926    0.498   \n",
       "10137       0.0495        0.5040          0.534000    0.1660    0.457   \n",
       "10138       0.1210        0.7390          0.000877    0.1460    0.712   \n",
       "10139       0.0414        0.8050          0.011900    0.1280    0.361   \n",
       "\n",
       "         tempo  time_signature  target  \n",
       "0      114.009               4       1  \n",
       "1      129.010               4       1  \n",
       "2      112.997               4       1  \n",
       "3      107.988               4       1  \n",
       "4      130.031               4       1  \n",
       "...        ...             ...     ...  \n",
       "10135  137.139               4       0  \n",
       "10136   80.505               4       0  \n",
       "10137  116.631               4       0  \n",
       "10138  128.432               4       0  \n",
       "10139  104.978               4       0  \n",
       "\n",
       "[10140 rows x 19 columns]"
      ]
     },
     "execution_count": 6,
     "metadata": {},
     "output_type": "execute_result"
    }
   ],
   "source": [
    "spotify_df"
   ]
  },
  {
   "cell_type": "markdown",
   "metadata": {},
   "source": [
    "## Train-Val-Test split, scaling data"
   ]
  },
  {
   "cell_type": "code",
   "execution_count": 7,
   "metadata": {},
   "outputs": [],
   "source": [
    "X = np.array(spotify_df.iloc[:, 4:-1])\n",
    "y = np.array(spotify_df.target)"
   ]
  },
  {
   "cell_type": "code",
   "execution_count": 8,
   "metadata": {},
   "outputs": [],
   "source": [
    "X_train, X_test, y_train, y_test = train_test_split(X, y, test_size=0.2, random_state=42)"
   ]
  },
  {
   "cell_type": "code",
   "execution_count": 9,
   "metadata": {},
   "outputs": [],
   "source": [
    "X_train, X_val, y_train, y_val = train_test_split(X_train, y_train, test_size=0.2, random_state=777)"
   ]
  },
  {
   "cell_type": "markdown",
   "metadata": {},
   "source": [
    "# Random Forest"
   ]
  },
  {
   "cell_type": "markdown",
   "metadata": {},
   "source": [
    "## Train and Val scores"
   ]
  },
  {
   "cell_type": "code",
   "execution_count": 7,
   "metadata": {},
   "outputs": [
    {
     "data": {
      "text/plain": [
       "RandomForestClassifier()"
      ]
     },
     "execution_count": 7,
     "metadata": {},
     "output_type": "execute_result"
    }
   ],
   "source": [
    "randomforest = RandomForestClassifier(n_estimators=100)\n",
    "randomforest.fit(X_train, y_train)"
   ]
  },
  {
   "cell_type": "code",
   "execution_count": 8,
   "metadata": {},
   "outputs": [],
   "source": [
    "y_train_pred = randomforest.predict(X_train)\n",
    "y_val_pred = randomforest.predict(X_val)"
   ]
  },
  {
   "cell_type": "code",
   "execution_count": 9,
   "metadata": {},
   "outputs": [
    {
     "name": "stdout",
     "output_type": "stream",
     "text": [
      "Training Set Accuracy: 1.0\n",
      "Training Set Precision: 1.0\n",
      "Training Set Recall: 1.0\n",
      "Training Set F1 Score: 1.0\n"
     ]
    }
   ],
   "source": [
    "accuracy = metrics.accuracy_score(y_train, y_train_pred)\n",
    "precision = metrics.precision_score(y_train, y_train_pred)\n",
    "recall = metrics.recall_score(y_train, y_train_pred)\n",
    "f1 = metrics.f1_score(y_train, y_train_pred)\n",
    "\n",
    "print(\"Training Set Accuracy:\" , round(accuracy, 3))\n",
    "print(\"Training Set Precision:\", round(precision, 3))\n",
    "print(\"Training Set Recall:\", round(recall, 3))\n",
    "print(\"Training Set F1 Score:\", round(f1, 3))"
   ]
  },
  {
   "cell_type": "code",
   "execution_count": 10,
   "metadata": {},
   "outputs": [
    {
     "name": "stdout",
     "output_type": "stream",
     "text": [
      "Val Set Accuracy: 0.919\n",
      "Val Set Precision: 0.928\n",
      "Val Set Recall: 0.911\n",
      "Val Set F1 Score: 0.919\n"
     ]
    }
   ],
   "source": [
    "accuracy = metrics.accuracy_score(y_val, y_val_pred)\n",
    "precision = metrics.precision_score(y_val, y_val_pred)\n",
    "recall = metrics.recall_score(y_val, y_val_pred)\n",
    "f1 = metrics.f1_score(y_val, y_val_pred)\n",
    "\n",
    "print(\"Val Set Accuracy:\" , round(accuracy, 3))\n",
    "print(\"Val Set Precision:\", round(precision, 3))\n",
    "print(\"Val Set Recall:\", round(recall, 3))\n",
    "print(\"Val Set F1 Score:\", round(f1, 3))"
   ]
  },
  {
   "cell_type": "markdown",
   "metadata": {},
   "source": [
    "## Precision/Recall Curve"
   ]
  },
  {
   "cell_type": "code",
   "execution_count": 11,
   "metadata": {},
   "outputs": [
    {
     "data": {
      "image/png": "[encoded data removed]",
      "text/plain": [
       "<Figure size 480x320 with 1 Axes>"
      ]
     },
     "metadata": {
      "needs_background": "light"
     },
     "output_type": "display_data"
    }
   ],
   "source": [
    "precision_curve, recall_curve, threshold_curve = \\\n",
    "        precision_recall_curve(y_val, randomforest.predict_proba(X_val)[:,1] )\n",
    "\n",
    "plt.figure(dpi=80)\n",
    "plt.plot(threshold_curve, precision_curve[1:],label='precision')\n",
    "plt.plot(threshold_curve, recall_curve[1:], label='recall')\n",
    "plt.legend(loc='lower left')\n",
    "plt.xlabel('Threshold');\n",
    "plt.title('Precision and Recall Curves');"
   ]
  },
  {
   "cell_type": "markdown",
   "metadata": {},
   "source": [
    "## Confusion Matrix, ROC AUC plot"
   ]
  },
  {
   "cell_type": "code",
   "execution_count": 12,
   "metadata": {},
   "outputs": [],
   "source": [
    "def make_confusion_matrix(model, threshold=0.5):\n",
    "    y_predict = (model.predict_proba(X_val)[:, 1] >= threshold)\n",
    "    genre_matrix = confusion_matrix(y_val, y_predict)\n",
    "    plt.figure(dpi=150)\n",
    "    sns.heatmap(genre_matrix, cmap=plt.cm.Blues, annot=True, square=True, fmt='d',\n",
    "           xticklabels=['jazz', 'rock'],\n",
    "           yticklabels=['jazz', 'rock']);\n",
    "    plt.xlabel('prediction')\n",
    "    plt.ylabel('actual')\n",
    "    print(classification_report(y_val, y_predict))"
   ]
  },
  {
   "cell_type": "code",
   "execution_count": 13,
   "metadata": {
    "scrolled": false
   },
   "outputs": [
    {
     "name": "stdout",
     "output_type": "stream",
     "text": [
      "              precision    recall  f1-score   support\n",
      "\n",
      "           0       0.91      0.92      0.92       804\n",
      "           1       0.92      0.91      0.92       819\n",
      "\n",
      "    accuracy                           0.92      1623\n",
      "   macro avg       0.92      0.92      0.92      1623\n",
      "weighted avg       0.92      0.92      0.92      1623\n",
      "\n"
     ]
    },
    {
     "data": {
      "image/png": "[encoded data removed]",
      "text/plain": [
       "<Figure size 900x600 with 2 Axes>"
      ]
     },
     "metadata": {
      "needs_background": "light"
     },
     "output_type": "display_data"
    }
   ],
   "source": [
    "make_confusion_matrix(randomforest)"
   ]
  },
  {
   "cell_type": "code",
   "execution_count": 14,
   "metadata": {},
   "outputs": [],
   "source": [
    "fpr, tpr, thresholds = roc_curve(y_val, randomforest.predict_proba(X_val)[:,1])"
   ]
  },
  {
   "cell_type": "code",
   "execution_count": 15,
   "metadata": {
    "scrolled": true
   },
   "outputs": [
    {
     "name": "stdout",
     "output_type": "stream",
     "text": [
      "ROC AUC score =  0.9705334742648176\n"
     ]
    },
    {
     "data": {
      "image/png": "[encoded data removed]",
      "text/plain": [
       "<Figure size 432x288 with 1 Axes>"
      ]
     },
     "metadata": {
      "needs_background": "light"
     },
     "output_type": "display_data"
    }
   ],
   "source": [
    "plt.plot(fpr, tpr, lw=2)\n",
    "plt.plot([0,1],[0,1],c='violet',ls='--')\n",
    "plt.xlim([-0.05,1.05])\n",
    "plt.ylim([-0.05,1.05])\n",
    "\n",
    "\n",
    "plt.xlabel('False positive rate')\n",
    "plt.ylabel('True positive rate')\n",
    "plt.title('ROC curve for Spotify genre classification');\n",
    "\n",
    "print(\"ROC AUC score = \", roc_auc_score(y_val, randomforest.predict_proba(X_val)[:,1]))"
   ]
  },
  {
   "cell_type": "markdown",
   "metadata": {},
   "source": [
    "## Log Loss"
   ]
  },
  {
   "cell_type": "code",
   "execution_count": 16,
   "metadata": {},
   "outputs": [
    {
     "name": "stdout",
     "output_type": "stream",
     "text": [
      "Log-loss on random forest: 0.2271\n"
     ]
    }
   ],
   "source": [
    "print(\"Log-loss on random forest: {:6.4f}\".format(log_loss(y_val, randomforest.predict_proba(X_val))))"
   ]
  },
  {
   "cell_type": "markdown",
   "metadata": {},
   "source": [
    "## Feature Importance"
   ]
  },
  {
   "cell_type": "code",
   "execution_count": 43,
   "metadata": {},
   "outputs": [
    {
     "data": {
      "text/html": [
       "<div>\n",
       "<style scoped>\n",
       "    .dataframe tbody tr th:only-of-type {\n",
       "        vertical-align: middle;\n",
       "    }\n",
       "\n",
       "    .dataframe tbody tr th {\n",
       "        vertical-align: top;\n",
       "    }\n",
       "\n",
       "    .dataframe thead th {\n",
       "        text-align: right;\n",
       "    }\n",
       "</style>\n",
       "<table border=\"1\" class=\"dataframe\">\n",
       "  <thead>\n",
       "    <tr style=\"text-align: right;\">\n",
       "      <th></th>\n",
       "      <th>col_name</th>\n",
       "    </tr>\n",
       "  </thead>\n",
       "  <tbody>\n",
       "    <tr>\n",
       "      <th>acousticness</th>\n",
       "      <td>0.228250</td>\n",
       "    </tr>\n",
       "    <tr>\n",
       "      <th>energy</th>\n",
       "      <td>0.169043</td>\n",
       "    </tr>\n",
       "    <tr>\n",
       "      <th>loudness</th>\n",
       "      <td>0.137870</td>\n",
       "    </tr>\n",
       "    <tr>\n",
       "      <th>popularity</th>\n",
       "      <td>0.102468</td>\n",
       "    </tr>\n",
       "    <tr>\n",
       "      <th>instrumentalness</th>\n",
       "      <td>0.099307</td>\n",
       "    </tr>\n",
       "    <tr>\n",
       "      <th>length</th>\n",
       "      <td>0.051569</td>\n",
       "    </tr>\n",
       "    <tr>\n",
       "      <th>speechiness</th>\n",
       "      <td>0.045881</td>\n",
       "    </tr>\n",
       "    <tr>\n",
       "      <th>danceability</th>\n",
       "      <td>0.041051</td>\n",
       "    </tr>\n",
       "    <tr>\n",
       "      <th>tempo</th>\n",
       "      <td>0.035465</td>\n",
       "    </tr>\n",
       "    <tr>\n",
       "      <th>valence</th>\n",
       "      <td>0.033304</td>\n",
       "    </tr>\n",
       "    <tr>\n",
       "      <th>liveness</th>\n",
       "      <td>0.024740</td>\n",
       "    </tr>\n",
       "    <tr>\n",
       "      <th>key</th>\n",
       "      <td>0.015874</td>\n",
       "    </tr>\n",
       "    <tr>\n",
       "      <th>mode</th>\n",
       "      <td>0.011271</td>\n",
       "    </tr>\n",
       "    <tr>\n",
       "      <th>time_signature</th>\n",
       "      <td>0.003905</td>\n",
       "    </tr>\n",
       "  </tbody>\n",
       "</table>\n",
       "</div>"
      ],
      "text/plain": [
       "                  col_name\n",
       "acousticness      0.228250\n",
       "energy            0.169043\n",
       "loudness          0.137870\n",
       "popularity        0.102468\n",
       "instrumentalness  0.099307\n",
       "length            0.051569\n",
       "speechiness       0.045881\n",
       "danceability      0.041051\n",
       "tempo             0.035465\n",
       "valence           0.033304\n",
       "liveness          0.024740\n",
       "key               0.015874\n",
       "mode              0.011271\n",
       "time_signature    0.003905"
      ]
     },
     "execution_count": 43,
     "metadata": {},
     "output_type": "execute_result"
    }
   ],
   "source": [
    "pd.DataFrame({'col_name': randomforest.feature_importances_}, index=X_val_df.columns).sort_values(by='col_name', ascending=False)\n"
   ]
  },
  {
   "cell_type": "markdown",
   "metadata": {},
   "source": [
    "# Random Forest with Polynomial Features\n",
    "## This was unnecessary "
   ]
  },
  {
   "cell_type": "code",
   "execution_count": 10,
   "metadata": {},
   "outputs": [],
   "source": [
    "poly = PolynomialFeatures(interaction_only=True)\n",
    "\n",
    "X_train_poly = poly.fit_transform(X_train)\n",
    "X_val_poly = poly.transform(X_val)"
   ]
  },
  {
   "cell_type": "code",
   "execution_count": 11,
   "metadata": {},
   "outputs": [],
   "source": [
    "poly_feature_interactions = poly.get_feature_names(['length', 'popularity',\n",
    "       'danceability', 'energy', 'key', 'loudness', 'mode', 'speechiness',\n",
    "       'acousticness', 'instrumentalness', 'liveness', 'valence', 'tempo',\n",
    "       'time_signature'])"
   ]
  },
  {
   "cell_type": "code",
   "execution_count": 12,
   "metadata": {},
   "outputs": [
    {
     "data": {
      "text/plain": [
       "['1',\n",
       " 'length',\n",
       " 'popularity',\n",
       " 'danceability',\n",
       " 'energy',\n",
       " 'key',\n",
       " 'loudness',\n",
       " 'mode',\n",
       " 'speechiness',\n",
       " 'acousticness',\n",
       " 'instrumentalness',\n",
       " 'liveness',\n",
       " 'valence',\n",
       " 'tempo',\n",
       " 'time_signature',\n",
       " 'length popularity',\n",
       " 'length danceability',\n",
       " 'length energy',\n",
       " 'length key',\n",
       " 'length loudness',\n",
       " 'length mode',\n",
       " 'length speechiness',\n",
       " 'length acousticness',\n",
       " 'length instrumentalness',\n",
       " 'length liveness',\n",
       " 'length valence',\n",
       " 'length tempo',\n",
       " 'length time_signature',\n",
       " 'popularity danceability',\n",
       " 'popularity energy',\n",
       " 'popularity key',\n",
       " 'popularity loudness',\n",
       " 'popularity mode',\n",
       " 'popularity speechiness',\n",
       " 'popularity acousticness',\n",
       " 'popularity instrumentalness',\n",
       " 'popularity liveness',\n",
       " 'popularity valence',\n",
       " 'popularity tempo',\n",
       " 'popularity time_signature',\n",
       " 'danceability energy',\n",
       " 'danceability key',\n",
       " 'danceability loudness',\n",
       " 'danceability mode',\n",
       " 'danceability speechiness',\n",
       " 'danceability acousticness',\n",
       " 'danceability instrumentalness',\n",
       " 'danceability liveness',\n",
       " 'danceability valence',\n",
       " 'danceability tempo',\n",
       " 'danceability time_signature',\n",
       " 'energy key',\n",
       " 'energy loudness',\n",
       " 'energy mode',\n",
       " 'energy speechiness',\n",
       " 'energy acousticness',\n",
       " 'energy instrumentalness',\n",
       " 'energy liveness',\n",
       " 'energy valence',\n",
       " 'energy tempo',\n",
       " 'energy time_signature',\n",
       " 'key loudness',\n",
       " 'key mode',\n",
       " 'key speechiness',\n",
       " 'key acousticness',\n",
       " 'key instrumentalness',\n",
       " 'key liveness',\n",
       " 'key valence',\n",
       " 'key tempo',\n",
       " 'key time_signature',\n",
       " 'loudness mode',\n",
       " 'loudness speechiness',\n",
       " 'loudness acousticness',\n",
       " 'loudness instrumentalness',\n",
       " 'loudness liveness',\n",
       " 'loudness valence',\n",
       " 'loudness tempo',\n",
       " 'loudness time_signature',\n",
       " 'mode speechiness',\n",
       " 'mode acousticness',\n",
       " 'mode instrumentalness',\n",
       " 'mode liveness',\n",
       " 'mode valence',\n",
       " 'mode tempo',\n",
       " 'mode time_signature',\n",
       " 'speechiness acousticness',\n",
       " 'speechiness instrumentalness',\n",
       " 'speechiness liveness',\n",
       " 'speechiness valence',\n",
       " 'speechiness tempo',\n",
       " 'speechiness time_signature',\n",
       " 'acousticness instrumentalness',\n",
       " 'acousticness liveness',\n",
       " 'acousticness valence',\n",
       " 'acousticness tempo',\n",
       " 'acousticness time_signature',\n",
       " 'instrumentalness liveness',\n",
       " 'instrumentalness valence',\n",
       " 'instrumentalness tempo',\n",
       " 'instrumentalness time_signature',\n",
       " 'liveness valence',\n",
       " 'liveness tempo',\n",
       " 'liveness time_signature',\n",
       " 'valence tempo',\n",
       " 'valence time_signature',\n",
       " 'tempo time_signature']"
      ]
     },
     "execution_count": 12,
     "metadata": {},
     "output_type": "execute_result"
    }
   ],
   "source": [
    "poly_feature_interactions"
   ]
  },
  {
   "cell_type": "code",
   "execution_count": 13,
   "metadata": {},
   "outputs": [],
   "source": [
    "rf_poly = RandomForestClassifier(n_estimators=100)"
   ]
  },
  {
   "cell_type": "code",
   "execution_count": 14,
   "metadata": {},
   "outputs": [
    {
     "data": {
      "text/plain": [
       "RandomForestClassifier()"
      ]
     },
     "execution_count": 14,
     "metadata": {},
     "output_type": "execute_result"
    }
   ],
   "source": [
    "rf_poly.fit(X_train_poly, y_train)"
   ]
  },
  {
   "cell_type": "code",
   "execution_count": 15,
   "metadata": {},
   "outputs": [],
   "source": [
    "y_train_poly_pred = rf_poly.predict(X_train_poly)\n",
    "y_val_poly_pred = rf_poly.predict(X_val_poly)"
   ]
  },
  {
   "cell_type": "markdown",
   "metadata": {},
   "source": [
    "## Train and Val Scores"
   ]
  },
  {
   "cell_type": "code",
   "execution_count": 16,
   "metadata": {},
   "outputs": [
    {
     "name": "stdout",
     "output_type": "stream",
     "text": [
      "Training Set Accuracy: 1.0\n",
      "Training Set Precision: 1.0\n",
      "Training Set Recall: 1.0\n",
      "Training Set F1 Score: 1.0\n"
     ]
    }
   ],
   "source": [
    "accuracy = metrics.accuracy_score(y_train, y_train_poly_pred)\n",
    "precision = metrics.precision_score(y_train, y_train_poly_pred)\n",
    "recall = metrics.recall_score(y_train, y_train_poly_pred)\n",
    "f1 = metrics.f1_score(y_train, y_train_poly_pred)\n",
    "\n",
    "print(\"Training Set Accuracy:\" , round(accuracy, 3))\n",
    "print(\"Training Set Precision:\", round(precision, 3))\n",
    "print(\"Training Set Recall:\", round(recall, 3))\n",
    "print(\"Training Set F1 Score:\", round(f1, 3))"
   ]
  },
  {
   "cell_type": "code",
   "execution_count": 17,
   "metadata": {},
   "outputs": [
    {
     "name": "stdout",
     "output_type": "stream",
     "text": [
      "Val Set Accuracy: 0.921\n",
      "Val Set Precision: 0.934\n",
      "Val Set Recall: 0.908\n",
      "Val Set F1 Score: 0.921\n"
     ]
    }
   ],
   "source": [
    "accuracy = metrics.accuracy_score(y_val, y_val_poly_pred)\n",
    "precision = metrics.precision_score(y_val, y_val_poly_pred)\n",
    "recall = metrics.recall_score(y_val, y_val_poly_pred)\n",
    "f1 = metrics.f1_score(y_val, y_val_poly_pred)\n",
    "\n",
    "print(\"Val Set Accuracy:\" , round(accuracy, 3))\n",
    "print(\"Val Set Precision:\", round(precision, 3))\n",
    "print(\"Val Set Recall:\", round(recall, 3))\n",
    "print(\"Val Set F1 Score:\", round(f1, 3))"
   ]
  },
  {
   "cell_type": "markdown",
   "metadata": {},
   "source": [
    "## Precision/Recall Curve"
   ]
  },
  {
   "cell_type": "code",
   "execution_count": 18,
   "metadata": {},
   "outputs": [
    {
     "data": {
      "image/png": "[encoded data removed]",
      "text/plain": [
       "<Figure size 480x320 with 1 Axes>"
      ]
     },
     "metadata": {
      "needs_background": "light"
     },
     "output_type": "display_data"
    }
   ],
   "source": [
    "precision_curve, recall_curve, threshold_curve = \\\n",
    "        precision_recall_curve(y_val, rf_poly.predict_proba(X_val_poly)[:,1])\n",
    "\n",
    "plt.figure(dpi=80)\n",
    "plt.plot(threshold_curve, precision_curve[1:],label='precision')\n",
    "plt.plot(threshold_curve, recall_curve[1:], label='recall')\n",
    "plt.legend(loc='lower left')\n",
    "plt.xlabel('Threshold');\n",
    "plt.title('Precision and Recall Curves');"
   ]
  },
  {
   "cell_type": "markdown",
   "metadata": {},
   "source": [
    "## Confusion Matrix, ROC AUC plot"
   ]
  },
  {
   "cell_type": "code",
   "execution_count": 19,
   "metadata": {},
   "outputs": [],
   "source": [
    "def make_confusion_matrix(model, threshold=0.5):\n",
    "    y_predict = (model.predict_proba(X_val_poly)[:, 1] >= threshold)\n",
    "    genre_matrix = confusion_matrix(y_val, y_predict)\n",
    "    plt.figure(dpi=150)\n",
    "    sns.heatmap(genre_matrix, cmap=plt.cm.Blues, annot=True, square=True, fmt='d',\n",
    "           xticklabels=['jazz', 'rock'],\n",
    "           yticklabels=['jazz', 'rock']);\n",
    "    plt.xlabel('Predicted genres')\n",
    "    plt.ylabel('Actual genres')\n",
    "    plt.title('Random Forest confusion matrix')\n",
    "    print(classification_report(y_val, y_predict))"
   ]
  },
  {
   "cell_type": "code",
   "execution_count": 20,
   "metadata": {},
   "outputs": [
    {
     "name": "stdout",
     "output_type": "stream",
     "text": [
      "              precision    recall  f1-score   support\n",
      "\n",
      "           0       0.91      0.93      0.92       804\n",
      "           1       0.93      0.91      0.92       819\n",
      "\n",
      "    accuracy                           0.92      1623\n",
      "   macro avg       0.92      0.92      0.92      1623\n",
      "weighted avg       0.92      0.92      0.92      1623\n",
      "\n"
     ]
    },
    {
     "data": {
      "image/png": "[encoded data removed]",
      "text/plain": [
       "<Figure size 900x600 with 2 Axes>"
      ]
     },
     "metadata": {
      "needs_background": "light"
     },
     "output_type": "display_data"
    }
   ],
   "source": [
    "make_confusion_matrix(rf_poly)"
   ]
  },
  {
   "cell_type": "code",
   "execution_count": 27,
   "metadata": {},
   "outputs": [],
   "source": [
    "fpr, tpr, thresholds = roc_curve(y_val, rf_poly.predict_proba(X_val_poly)[:,1])"
   ]
  },
  {
   "cell_type": "code",
   "execution_count": 28,
   "metadata": {},
   "outputs": [
    {
     "name": "stdout",
     "output_type": "stream",
     "text": [
      "ROC AUC score =  0.9717833299922853\n"
     ]
    },
    {
     "data": {
      "image/png": "[encoded data removed]",
      "text/plain": [
       "<Figure size 432x288 with 1 Axes>"
      ]
     },
     "metadata": {
      "needs_background": "light"
     },
     "output_type": "display_data"
    }
   ],
   "source": [
    "plt.plot(fpr, tpr, lw=2)\n",
    "plt.plot([0,1],[0,1],c='violet',ls='--')\n",
    "plt.xlim([-0.05,1.05])\n",
    "plt.ylim([-0.05,1.05])\n",
    "\n",
    "\n",
    "plt.xlabel('False positive rate')\n",
    "plt.ylabel('True positive rate')\n",
    "plt.title('ROC curve for Spotify genre classification');\n",
    "\n",
    "print(\"ROC AUC score = \", roc_auc_score(y_val, rf_poly.predict_proba(X_val_poly)[:,1]))"
   ]
  },
  {
   "cell_type": "markdown",
   "metadata": {},
   "source": [
    "## Log Loss"
   ]
  },
  {
   "cell_type": "code",
   "execution_count": 29,
   "metadata": {},
   "outputs": [
    {
     "name": "stdout",
     "output_type": "stream",
     "text": [
      "Log-loss on random forest with feature interaction: 0.2173\n"
     ]
    }
   ],
   "source": [
    "print(\"Log-loss on random forest with feature interaction: {:6.4f}\" \\\n",
    "      .format(log_loss(y_val, rf_poly.predict_proba(X_val_poly))))"
   ]
  },
  {
   "cell_type": "markdown",
   "metadata": {},
   "source": [
    "## Feature Importance"
   ]
  },
  {
   "cell_type": "code",
   "execution_count": 44,
   "metadata": {},
   "outputs": [
    {
     "data": {
      "text/html": [
       "<div>\n",
       "<style scoped>\n",
       "    .dataframe tbody tr th:only-of-type {\n",
       "        vertical-align: middle;\n",
       "    }\n",
       "\n",
       "    .dataframe tbody tr th {\n",
       "        vertical-align: top;\n",
       "    }\n",
       "\n",
       "    .dataframe thead th {\n",
       "        text-align: right;\n",
       "    }\n",
       "</style>\n",
       "<table border=\"1\" class=\"dataframe\">\n",
       "  <thead>\n",
       "    <tr style=\"text-align: right;\">\n",
       "      <th></th>\n",
       "      <th>col_name</th>\n",
       "    </tr>\n",
       "  </thead>\n",
       "  <tbody>\n",
       "    <tr>\n",
       "      <th>acousticness time_signature</th>\n",
       "      <td>0.061381</td>\n",
       "    </tr>\n",
       "    <tr>\n",
       "      <th>length acousticness</th>\n",
       "      <td>0.060368</td>\n",
       "    </tr>\n",
       "    <tr>\n",
       "      <th>acousticness</th>\n",
       "      <td>0.059889</td>\n",
       "    </tr>\n",
       "    <tr>\n",
       "      <th>loudness acousticness</th>\n",
       "      <td>0.057362</td>\n",
       "    </tr>\n",
       "    <tr>\n",
       "      <th>acousticness tempo</th>\n",
       "      <td>0.036609</td>\n",
       "    </tr>\n",
       "    <tr>\n",
       "      <th>...</th>\n",
       "      <td>...</td>\n",
       "    </tr>\n",
       "    <tr>\n",
       "      <th>key time_signature</th>\n",
       "      <td>0.001344</td>\n",
       "    </tr>\n",
       "    <tr>\n",
       "      <th>mode time_signature</th>\n",
       "      <td>0.000982</td>\n",
       "    </tr>\n",
       "    <tr>\n",
       "      <th>mode</th>\n",
       "      <td>0.000429</td>\n",
       "    </tr>\n",
       "    <tr>\n",
       "      <th>time_signature</th>\n",
       "      <td>0.000273</td>\n",
       "    </tr>\n",
       "    <tr>\n",
       "      <th>1</th>\n",
       "      <td>0.000000</td>\n",
       "    </tr>\n",
       "  </tbody>\n",
       "</table>\n",
       "<p>106 rows × 1 columns</p>\n",
       "</div>"
      ],
      "text/plain": [
       "                             col_name\n",
       "acousticness time_signature  0.061381\n",
       "length acousticness          0.060368\n",
       "acousticness                 0.059889\n",
       "loudness acousticness        0.057362\n",
       "acousticness tempo           0.036609\n",
       "...                               ...\n",
       "key time_signature           0.001344\n",
       "mode time_signature          0.000982\n",
       "mode                         0.000429\n",
       "time_signature               0.000273\n",
       "1                            0.000000\n",
       "\n",
       "[106 rows x 1 columns]"
      ]
     },
     "execution_count": 44,
     "metadata": {},
     "output_type": "execute_result"
    }
   ],
   "source": [
    "pd.DataFrame({'col_name': rf_poly.feature_importances_}, index=X_val_poly_df.columns) \\\n",
    "            .sort_values(by='col_name', ascending=False)"
   ]
  }
 ],
 "metadata": {
  "kernelspec": {
   "display_name": "Python 3",
   "language": "python",
   "name": "python3"
  },
  "language_info": {
   "codemirror_mode": {
    "name": "ipython",
    "version": 3
   },
   "file_extension": ".py",
   "mimetype": "text/x-python",
   "name": "python",
   "nbconvert_exporter": "python",
   "pygments_lexer": "ipython3",
   "version": "3.8.6"
  }
 },
 "nbformat": 4,
 "nbformat_minor": 4
}
